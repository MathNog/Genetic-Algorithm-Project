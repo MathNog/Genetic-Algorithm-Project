{
 "cells": [
  {
   "cell_type": "code",
   "execution_count": null,
   "metadata": {},
   "outputs": [],
   "source": []
  }
 ],
 "metadata": {
  "kernelspec": {
   "display_name": "Python 3.9.7 64-bit",
   "language": "python",
   "name": "python3"
  },
  "language_info": {
   "name": "python",
   "version": "3.9.7"
  },
  "orig_nbformat": 4,
  "vscode": {
   "interpreter": {
    "hash": "12fe7b5ea102b89bd0e37e3dff29e5ba1f0772019f42f697c2b3ff100c627f80"
   }
  }
 },
 "nbformat": 4,
 "nbformat_minor": 2
}
