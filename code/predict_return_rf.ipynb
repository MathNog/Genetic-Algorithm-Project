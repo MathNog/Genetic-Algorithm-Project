{
 "cells": [
  {
   "cell_type": "markdown",
   "metadata": {},
   "source": [
    "# Asset Return Prediction with Random Forest Regressor"
   ]
  }
 ],
 "metadata": {
  "kernelspec": {
   "display_name": "Python 3.8.13 ('compEvol')",
   "language": "python",
   "name": "python3"
  },
  "language_info": {
   "name": "python",
   "version": "3.8.13"
  },
  "orig_nbformat": 4,
  "vscode": {
   "interpreter": {
    "hash": "34659c60ecdbc97b4978d2fcb6c3dad6f69cf2e860b3bf41f250432b0d942210"
   }
  }
 },
 "nbformat": 4,
 "nbformat_minor": 2
}
